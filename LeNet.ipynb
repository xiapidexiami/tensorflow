{
  "nbformat": 4,
  "nbformat_minor": 0,
  "metadata": {
    "colab": {
      "name": "LeNet.ipynb",
      "provenance": [],
      "private_outputs": true,
      "include_colab_link": true
    },
    "kernelspec": {
      "name": "python3",
      "display_name": "Python 3"
    },
    "accelerator": "GPU"
  },
  "cells": [
    {
      "cell_type": "markdown",
      "metadata": {
        "id": "view-in-github",
        "colab_type": "text"
      },
      "source": [
        "<a href=\"https://colab.research.google.com/github/xiapidexiami/tensorflow/blob/master/LeNet.ipynb\" target=\"_parent\"><img src=\"https://colab.research.google.com/assets/colab-badge.svg\" alt=\"Open In Colab\"/></a>"
      ]
    },
    {
      "cell_type": "code",
      "metadata": {
        "id": "lAMhINyzyk2n",
        "colab_type": "code",
        "colab": {}
      },
      "source": [
        "import os\n",
        "import zipfile\n",
        "import random\n",
        "import tensorflow as tf\n",
        "import numpy as np\n",
        "from tensorflow.keras.preprocessing.image import ImageDataGenerator\n",
        "from tensorflow.keras.optimizers import RMSprop\n",
        "from shutil import copyfile, rmtree\n",
        "\n",
        "from keras.backend.tensorflow_backend import set_session"
      ],
      "execution_count": 0,
      "outputs": []
    },
    {
      "cell_type": "markdown",
      "metadata": {
        "id": "1VOWNpWU2Unw",
        "colab_type": "text"
      },
      "source": [
        "download full cats-v-dogs dataset and store it as cats-and-dogs.zip"
      ]
    },
    {
      "cell_type": "code",
      "metadata": {
        "id": "YaIJcHuhPhr_",
        "colab_type": "code",
        "colab": {}
      },
      "source": [
        "os.environ[\"CUDA_VISIBLE_DEVICES\"] = \"0\" #有多个GPU时可以指定只使用第几号GPU\n",
        "config = tf.ConfigProto()\n",
        "config.allow_soft_placement=True #允许动态放置张量和操作符\n",
        "config.gpu_options.per_process_gpu_memory_fraction = 0.4 #最多使用40%GPU内存\n",
        "config.gpu_options.allow_growth=True   #初始化时不全部占满GPU显存, 按需分配 \n",
        "sess = tf.Session(config = config)\n",
        "set_session(sess)"
      ],
      "execution_count": 0,
      "outputs": []
    },
    {
      "cell_type": "code",
      "metadata": {
        "id": "RyJKYvcL2esz",
        "colab_type": "code",
        "colab": {}
      },
      "source": [
        "!wget --no-check-certificate \\\n",
        "    \"https://download.microsoft.com/download/3/E/1/3E1C3F21-ECDB-4869-8368-6DEBA77B919F/kagglecatsanddogs_3367a.zip\" \\\n",
        "    -O \"/tmp/cats-and-dogs.zip\""
      ],
      "execution_count": 0,
      "outputs": []
    },
    {
      "cell_type": "markdown",
      "metadata": {
        "id": "UNgxrPle3PAK",
        "colab_type": "text"
      },
      "source": [
        "unzip dataset to /tmp"
      ]
    },
    {
      "cell_type": "code",
      "metadata": {
        "id": "fs_llc4P3YSY",
        "colab_type": "code",
        "colab": {}
      },
      "source": [
        "local_zip = \"/tmp/cats-and-dogs.zip\"\n",
        "zip_ref = zipfile.ZipFile(local_zip, 'r')\n",
        "zip_ref.extractall('/tmp/')\n",
        "zip_ref.close()"
      ],
      "execution_count": 0,
      "outputs": []
    },
    {
      "cell_type": "markdown",
      "metadata": {
        "id": "KRuIciCA5aeU",
        "colab_type": "text"
      },
      "source": [
        "Split dataset into training dataset (0.8), validation dataset (0.1), and testing dataset (0.1). \n",
        "Since some image data is empty, we should delete when splitting data."
      ]
    },
    {
      "cell_type": "code",
      "metadata": {
        "id": "TEw1WSQz5jcc",
        "colab_type": "code",
        "colab": {}
      },
      "source": [
        "num_cats = len(os.listdir(\"/tmp/PetImages/Cat\"))\n",
        "num_dogs = len(os.listdir(\"/tmp/PetImages/Dog\"))\n",
        "print(\"the number of cats is\", num_cats)\n",
        "print(\"the number of dogs is\", num_dogs)"
      ],
      "execution_count": 0,
      "outputs": []
    },
    {
      "cell_type": "code",
      "metadata": {
        "id": "qafSIfwVFXn9",
        "colab_type": "code",
        "colab": {}
      },
      "source": [
        "rmtree(\"/tmp/cats-v-dogs\")\n",
        "try:\n",
        "  os.makedirs(\"/tmp/cats-v-dogs/training/cats/\")\n",
        "  os.makedirs(\"/tmp/cats-v-dogs/training/dogs/\")\n",
        "  os.makedirs(\"/tmp/cats-v-dogs/validation/cats/\")\n",
        "  os.makedirs(\"/tmp/cats-v-dogs/validation/dogs/\")\n",
        "  os.makedirs(\"/tmp/cats-v-dogs/testing/cats/\")\n",
        "  os.makedirs(\"/tmp/cats-v-dogs/testing/dogs/\")\n",
        "except OSError:\n",
        "  pass"
      ],
      "execution_count": 0,
      "outputs": []
    },
    {
      "cell_type": "code",
      "metadata": {
        "id": "Bo5ZftiqEQtQ",
        "colab_type": "code",
        "colab": {}
      },
      "source": [
        "def split_data(source_dir, train_dir, validation_dir, test_dir, split_size):\n",
        "  files = []\n",
        "  for filename in os.listdir(source_dir):\n",
        "    file = os.path.join(source_dir, filename)\n",
        "    if os.path.getsize(file) > 0:\n",
        "      files.append(filename)\n",
        "    else:\n",
        "      print(filename, \"is empty!\")\n",
        "    \n",
        "  random.shuffle(files)\n",
        "  num_file_full = len(files)\n",
        "  print(\"The number of useful file is \", num_file_full)\n",
        "  \n",
        "  num_train = int(num_file_full * split_size[0])\n",
        "  num_validation = int(num_file_full * split_size[1])\n",
        "  num_test = num_file_full - num_train - num_validation\n",
        "\n",
        "  train_files = files[:num_train]\n",
        "  validation_files = files[num_train:num_train+num_validation]\n",
        "  test_files = files[num_train+num_validation:]\n",
        "\n",
        "  for filename in train_files:\n",
        "    copyfile(os.path.join(source_dir, filename), os.path.join(train_dir, filename))\n",
        "\n",
        "  for filename in validation_files:\n",
        "    copyfile(os.path.join(source_dir, filename), os.path.join(validation_dir, filename))\n",
        "\n",
        "  for filename in test_files:\n",
        "    copyfile(os.path.join(source_dir, filename), os.path.join(test_dir, filename))\n",
        "\n",
        "cat_source_dir = \"/tmp/PetImages/Cat\"\n",
        "cat_train_dir = \"/tmp/cats-v-dogs/training/cats/\"\n",
        "cat_validation_dir = \"/tmp/cats-v-dogs/validation/cats/\"\n",
        "cat_test_dir = \"/tmp/cats-v-dogs/testing/cats/\"\n",
        "dog_source_dir = \"/tmp/PetImages/Dog\"\n",
        "dog_train_dir = \"/tmp/cats-v-dogs/training/dogs/\"\n",
        "dog_validation_dir = \"/tmp/cats-v-dogs/validation/dogs/\"\n",
        "dog_test_dir = \"/tmp/cats-v-dogs/testing/dogs/\"\n",
        "\n",
        "split_size = [0.8, 0.1]\n",
        "\n",
        "split_data(cat_source_dir, cat_train_dir, cat_validation_dir, cat_test_dir, split_size)\n",
        "split_data(dog_source_dir, dog_train_dir, dog_validation_dir, dog_test_dir, split_size)\n",
        "\n",
        "print(\"number in cats training set is\", len(os.listdir(cat_train_dir)))\n",
        "print(\"number in cats validation set is\", len(os.listdir(cat_validation_dir)))\n",
        "print(\"number in cats testing set is\", len(os.listdir(cat_test_dir)))\n",
        "print(\"number in dogs training set is\", len(os.listdir(dog_train_dir)))\n",
        "print(\"number in dogs validation set is\", len(os.listdir(dog_validation_dir)))\n",
        "print(\"number in dogs testing set is\", len(os.listdir(dog_test_dir)))"
      ],
      "execution_count": 0,
      "outputs": []
    },
    {
      "cell_type": "markdown",
      "metadata": {
        "id": "iVdbpe58Jr1G",
        "colab_type": "text"
      },
      "source": [
        "ImageGenerator with augementation"
      ]
    },
    {
      "cell_type": "code",
      "metadata": {
        "id": "mLKz5EHoJv0F",
        "colab_type": "code",
        "colab": {}
      },
      "source": [
        "train_dir =  \"/tmp/cats-v-dogs/training/\"\n",
        "train_datagen = ImageDataGenerator(rescale=1.0/255.0,\n",
        "                                    rotation_range=40,\n",
        "                                    width_shift_range=0.2,\n",
        "                                    height_shift_range=0.2,\n",
        "                                    shear_range=0.2,\n",
        "                                    zoom_range=0.2,\n",
        "                                    horizontal_flip=True,\n",
        "                                    fill_mode='nearest')\n",
        "train_generator = train_datagen.flow_from_directory(train_dir, \n",
        "                                                    target_size=(150,150),\n",
        "                                                    batch_size=100,\n",
        "                                                    class_mode='binary')\n",
        "\n",
        "validation_dir = \"/tmp/cats-v-dogs/validation/\"\n",
        "validation_datagen = ImageDataGenerator(rescale=1.0/255.0)\n",
        "validation_generator = validation_datagen.flow_from_directory(validation_dir,\n",
        "                                                              target_size=(150,150),\n",
        "                                                              batch_size=50,\n",
        "                                                              class_mode='binary')\n",
        "\n",
        "test_dir = \"/tmp/cats-v-dogs/testing/\"\n",
        "test_datagen = ImageDataGenerator(rescale=1.0/255.0)\n",
        "test_generator = test_datagen.flow_from_directory(test_dir,\n",
        "                                                  target_size=(150,150),\n",
        "                                                  batch_size=50,\n",
        "                                                  class_mode='binary')"
      ],
      "execution_count": 0,
      "outputs": []
    },
    {
      "cell_type": "markdown",
      "metadata": {
        "id": "WuuAhmv4MveA",
        "colab_type": "text"
      },
      "source": [
        "Define a keras model to classify cats vs dogs"
      ]
    },
    {
      "cell_type": "code",
      "metadata": {
        "id": "1NEFDkY_Mw1o",
        "colab_type": "code",
        "colab": {}
      },
      "source": [
        "model = tf.keras.models.Sequential([tf.keras.layers.Conv2D(6, (5,5), activation='tanh', input_shape=(150,150,3)),\n",
        "                                   tf.keras.layers.MaxPooling2D(2,2),\n",
        "                                   tf.keras.layers.Conv2D(16, (5,5), activation='tanh'),\n",
        "                                   tf.keras.layers.MaxPooling2D(2,2),\n",
        "                                   tf.keras.layers.Flatten(),\n",
        "                                   tf.keras.layers.Dense(120, activation='tanh'),\n",
        "                                   tf.keras.layers.Dense(84, activation='tanh'),\n",
        "                                   tf.keras.layers.Dense(1, activation='sigmoid')])\n",
        "model.summary()"
      ],
      "execution_count": 0,
      "outputs": []
    },
    {
      "cell_type": "code",
      "metadata": {
        "id": "1knq2G7GOPuF",
        "colab_type": "code",
        "colab": {}
      },
      "source": [
        "model.compile(optimizer=RMSprop(lr=0.0001), loss='binary_crossentropy', metrics=['acc'])\n",
        "history = model.fit_generator(train_generator,\n",
        "                             epochs=50,\n",
        "                             steps_per_epoch=100,\n",
        "                             validation_data=validation_generator,\n",
        "                             validation_steps=25,\n",
        "                             verbose=1)"
      ],
      "execution_count": 0,
      "outputs": []
    },
    {
      "cell_type": "markdown",
      "metadata": {
        "id": "7Sm2-vtviQsg",
        "colab_type": "text"
      },
      "source": [
        "Plot loss and accuracy"
      ]
    },
    {
      "cell_type": "code",
      "metadata": {
        "id": "URSSCcziiTl6",
        "colab_type": "code",
        "colab": {}
      },
      "source": [
        "import matplotlib.pyplot as plt\n",
        "import matplotlib.image as mpimg\n",
        "\n",
        "acc = history.history['acc']\n",
        "val_acc = history.history['val_acc']\n",
        "loss = history.history['loss']\n",
        "val_loss = history.history['val_loss']\n",
        "\n",
        "epochs = range(len(acc))\n",
        "\n",
        "plt.plot(epochs, acc, 'r', 'Training accuracy')\n",
        "plt.plot(epochs, val_acc, 'b', 'Validation accuracy')\n",
        "plt.title('Training and validation accuracy')\n",
        "plt.figure()\n",
        "\n",
        "plt.plot(epochs, loss, 'r', \"Training Loss\")\n",
        "plt.plot(epochs, val_loss, 'b', \"Validation Loss\")\n",
        "plt.title('Training and validation loss')"
      ],
      "execution_count": 0,
      "outputs": []
    },
    {
      "cell_type": "markdown",
      "metadata": {
        "id": "g5-2qxTAkGpt",
        "colab_type": "text"
      },
      "source": [
        "test evaluation"
      ]
    },
    {
      "cell_type": "code",
      "metadata": {
        "id": "qoB3fSeNkJTs",
        "colab_type": "code",
        "colab": {}
      },
      "source": [
        "model.evaluate_generator(test_generator, steps=25)"
      ],
      "execution_count": 0,
      "outputs": []
    }
  ]
}